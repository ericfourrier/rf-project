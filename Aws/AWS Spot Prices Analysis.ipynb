{
 "cells": [
  {
   "cell_type": "markdown",
   "metadata": {},
   "source": [
    "# Quick aws spot prices analysis "
   ]
  },
  {
   "cell_type": "markdown",
   "metadata": {},
   "source": [
    "## Import Packages "
   ]
  },
  {
   "cell_type": "code",
   "execution_count": 44,
   "metadata": {
    "collapsed": false
   },
   "outputs": [
    {
     "name": "stdout",
     "output_type": "stream",
     "text": [
      "Populating the interactive namespace from numpy and matplotlib\n"
     ]
    }
   ],
   "source": [
    "import pandas as pd\n",
    "\n",
    "%pylab inline --no-import\n",
    "import pylab as pl\n",
    "import seaborn as sns\n",
    "import matplotlib as mpl\n",
    "import matplotlib.pyplot as plt\n",
    "\n",
    "# Seaborn options \n",
    "sns.set_palette(\"deep\", desat=.6)\n",
    "sns.set_context(rc={\"figure.figsize\": (12, 8)})\n",
    "plt.style.use('ggplot') # ggplot2 style for matplotlib \n"
   ]
  },
  {
   "cell_type": "code",
   "execution_count": 2,
   "metadata": {
    "collapsed": false
   },
   "outputs": [
    {
     "name": "stdout",
     "output_type": "stream",
     "text": [
      "README.md               get_intraday_price.py   myapp.log               spot_price_aws_3.csv\r\n",
      "Untitled.ipynb          get_intraday_price.pyc  spot_price_aws.csv      spot_price_aws_wd.csv\r\n",
      "get_aws_spotprice.py    logs.json               spot_price_aws.json\r\n",
      "get_aws_spotprice.pyc   logs2.json              spot_price_aws_2.csv\r\n"
     ]
    }
   ],
   "source": [
    "ls"
   ]
  },
  {
   "cell_type": "code",
   "execution_count": 14,
   "metadata": {
    "collapsed": false
   },
   "outputs": [],
   "source": [
    "df = pd.read_csv('spot_price_aws_wd.csv', parse_dates=[\"Timestamp\"]) # parse dates "
   ]
  },
  {
   "cell_type": "code",
   "execution_count": 34,
   "metadata": {
    "collapsed": false
   },
   "outputs": [
    {
     "data": {
      "text/plain": [
       "(841610, 5)"
      ]
     },
     "execution_count": 34,
     "metadata": {},
     "output_type": "execute_result"
    }
   ],
   "source": [
    "df.shape"
   ]
  },
  {
   "cell_type": "code",
   "execution_count": 15,
   "metadata": {
    "collapsed": false
   },
   "outputs": [
    {
     "data": {
      "text/html": [
       "<div>\n",
       "<table border=\"1\" class=\"dataframe\">\n",
       "  <thead>\n",
       "    <tr style=\"text-align: right;\">\n",
       "      <th></th>\n",
       "      <th>AvailabilityZone</th>\n",
       "      <th>InstanceType</th>\n",
       "      <th>ProductDescription</th>\n",
       "      <th>SpotPrice</th>\n",
       "      <th>Timestamp</th>\n",
       "    </tr>\n",
       "  </thead>\n",
       "  <tbody>\n",
       "    <tr>\n",
       "      <th>0</th>\n",
       "      <td>us-west-1a</td>\n",
       "      <td>m2.4xlarge</td>\n",
       "      <td>Linux/UNIX</td>\n",
       "      <td>0.0698</td>\n",
       "      <td>2016-01-07 11:55:18</td>\n",
       "    </tr>\n",
       "    <tr>\n",
       "      <th>1</th>\n",
       "      <td>us-west-1a</td>\n",
       "      <td>c3.2xlarge</td>\n",
       "      <td>Linux/UNIX</td>\n",
       "      <td>0.0891</td>\n",
       "      <td>2016-01-07 11:55:16</td>\n",
       "    </tr>\n",
       "    <tr>\n",
       "      <th>2</th>\n",
       "      <td>us-west-1a</td>\n",
       "      <td>c3.2xlarge</td>\n",
       "      <td>Windows</td>\n",
       "      <td>0.2561</td>\n",
       "      <td>2016-01-07 11:55:14</td>\n",
       "    </tr>\n",
       "    <tr>\n",
       "      <th>3</th>\n",
       "      <td>us-west-1a</td>\n",
       "      <td>r3.2xlarge</td>\n",
       "      <td>Linux/UNIX</td>\n",
       "      <td>0.0737</td>\n",
       "      <td>2016-01-07 11:55:00</td>\n",
       "    </tr>\n",
       "    <tr>\n",
       "      <th>4</th>\n",
       "      <td>us-west-1a</td>\n",
       "      <td>c1.medium</td>\n",
       "      <td>Linux/UNIX</td>\n",
       "      <td>0.0178</td>\n",
       "      <td>2016-01-07 11:54:55</td>\n",
       "    </tr>\n",
       "  </tbody>\n",
       "</table>\n",
       "</div>"
      ],
      "text/plain": [
       "  AvailabilityZone InstanceType ProductDescription  SpotPrice  \\\n",
       "0       us-west-1a   m2.4xlarge         Linux/UNIX     0.0698   \n",
       "1       us-west-1a   c3.2xlarge         Linux/UNIX     0.0891   \n",
       "2       us-west-1a   c3.2xlarge            Windows     0.2561   \n",
       "3       us-west-1a   r3.2xlarge         Linux/UNIX     0.0737   \n",
       "4       us-west-1a    c1.medium         Linux/UNIX     0.0178   \n",
       "\n",
       "            Timestamp  \n",
       "0 2016-01-07 11:55:18  \n",
       "1 2016-01-07 11:55:16  \n",
       "2 2016-01-07 11:55:14  \n",
       "3 2016-01-07 11:55:00  \n",
       "4 2016-01-07 11:54:55  "
      ]
     },
     "execution_count": 15,
     "metadata": {},
     "output_type": "execute_result"
    }
   ],
   "source": [
    "df.head(5)"
   ]
  },
  {
   "cell_type": "code",
   "execution_count": 22,
   "metadata": {
    "collapsed": false
   },
   "outputs": [],
   "source": [
    "col_category = [u'AvailabilityZone', u'InstanceType', u'ProductDescription']\n",
    "for col in col_category:\n",
    "    df.loc[:,col] = df.loc[:,col].astype('category')"
   ]
  },
  {
   "cell_type": "code",
   "execution_count": 23,
   "metadata": {
    "collapsed": false
   },
   "outputs": [
    {
     "data": {
      "text/plain": [
       "AvailabilityZone            category\n",
       "InstanceType                category\n",
       "ProductDescription          category\n",
       "SpotPrice                    float64\n",
       "Timestamp             datetime64[ns]\n",
       "dtype: object"
      ]
     },
     "execution_count": 23,
     "metadata": {},
     "output_type": "execute_result"
    }
   ],
   "source": [
    "df.dtypes"
   ]
  },
  {
   "cell_type": "code",
   "execution_count": 24,
   "metadata": {
    "collapsed": false
   },
   "outputs": [
    {
     "name": "stdout",
     "output_type": "stream",
     "text": [
      "<class 'pandas.core.frame.DataFrame'>\n",
      "Int64Index: 841610 entries, 0 to 841609\n",
      "Data columns (total 5 columns):\n",
      "AvailabilityZone      841610 non-null category\n",
      "InstanceType          841610 non-null category\n",
      "ProductDescription    841610 non-null category\n",
      "SpotPrice             841610 non-null float64\n",
      "Timestamp             841610 non-null datetime64[ns]\n",
      "dtypes: category(3), datetime64[ns](1), float64(1)\n",
      "memory usage: 21.7 MB\n"
     ]
    }
   ],
   "source": [
    "df.info()"
   ]
  },
  {
   "cell_type": "code",
   "execution_count": 26,
   "metadata": {
    "collapsed": false
   },
   "outputs": [
    {
     "data": {
      "text/plain": [
       "c3.8xlarge     82919\n",
       "c3.2xlarge     79663\n",
       "g2.2xlarge     73940\n",
       "m3.2xlarge     64869\n",
       "c3.4xlarge     47763\n",
       "m3.xlarge      46670\n",
       "c3.xlarge      39674\n",
       "r3.2xlarge     35599\n",
       "c3.large       31043\n",
       "m2.4xlarge     27402\n",
       "r3.xlarge      27035\n",
       "m2.2xlarge     24910\n",
       "c4.2xlarge     22559\n",
       "m4.2xlarge     22012\n",
       "c4.xlarge      20370\n",
       "r3.large       17162\n",
       "c4.8xlarge     15377\n",
       "m4.xlarge      15373\n",
       "c1.medium      13658\n",
       "m3.large       13643\n",
       "c4.large       13272\n",
       "m2.xlarge      12908\n",
       "m4.large       12412\n",
       "r3.4xlarge     10880\n",
       "c4.4xlarge      9795\n",
       "r3.8xlarge      9363\n",
       "g2.8xlarge      8846\n",
       "m1.large        6227\n",
       "m1.medium       5679\n",
       "m4.4xlarge      5369\n",
       "m3.medium       5350\n",
       "i2.xlarge       5083\n",
       "c1.xlarge       4497\n",
       "t1.micro        2529\n",
       "m4.10xlarge     2388\n",
       "m1.xlarge       1798\n",
       "i2.2xlarge      1362\n",
       "i2.4xlarge      1146\n",
       "i2.8xlarge       663\n",
       "m1.small         402\n",
       "dtype: int64"
      ]
     },
     "execution_count": 26,
     "metadata": {},
     "output_type": "execute_result"
    }
   ],
   "source": [
    "df.InstanceType.value_counts()"
   ]
  },
  {
   "cell_type": "code",
   "execution_count": 27,
   "metadata": {
    "collapsed": false
   },
   "outputs": [
    {
     "data": {
      "text/plain": [
       "us-west-1c    465785\n",
       "us-west-1a    375825\n",
       "dtype: int64"
      ]
     },
     "execution_count": 27,
     "metadata": {},
     "output_type": "execute_result"
    }
   ],
   "source": [
    "df.AvailabilityZone.value_counts()"
   ]
  },
  {
   "cell_type": "code",
   "execution_count": 29,
   "metadata": {
    "collapsed": false
   },
   "outputs": [
    {
     "data": {
      "text/plain": [
       "Linux/UNIX    584794\n",
       "Windows       178597\n",
       "SUSE Linux     78219\n",
       "dtype: int64"
      ]
     },
     "execution_count": 29,
     "metadata": {},
     "output_type": "execute_result"
    }
   ],
   "source": [
    "df.ProductDescription.value_counts()"
   ]
  },
  {
   "cell_type": "markdown",
   "metadata": {},
   "source": [
    "## Useful Helpers to plot and understand data"
   ]
  },
  {
   "cell_type": "code",
   "execution_count": null,
   "metadata": {
    "collapsed": true
   },
   "outputs": [],
   "source": [
    "def select_rp(df, region=\"us-west-1c\",product=\"Linux/UNIX\"):\n",
    "    \"\"\"select subset based on region and product\"\"\"\n",
    "    return df.loc[(df.AvailabilityZone==region) & (df.ProductDescription==product),:]\n",
    "\n",
    "def get_timeserie(instance_type,df=df, region=\"us-west-1c\",product=\"Linux/UNIX\"):\n",
    "    index = (df.AvailabilityZone == region) & (df.ProductDescription == product) & (df.InstanceType == instance_type)\n",
    "    val_sp = df.loc[index,\"SpotPrice\"].values\n",
    "    index_dates = df.loc[index,'Timestamp']\n",
    "    return pd.Series(data=val_sp,index=index_dates)"
   ]
  },
  {
   "cell_type": "code",
   "execution_count": 105,
   "metadata": {
    "collapsed": false
   },
   "outputs": [
    {
     "ename": "NameError",
     "evalue": "name 'self' is not defined",
     "output_type": "error",
     "traceback": [
      "\u001b[0;31m---------------------------------------------------------------------------\u001b[0m",
      "\u001b[0;31mNameError\u001b[0m                                 Traceback (most recent call last)",
      "\u001b[0;32m<ipython-input-105-dba215e87cc8>\u001b[0m in \u001b[0;36m<module>\u001b[0;34m()\u001b[0m\n\u001b[0;32m----> 1\u001b[0;31m \u001b[0;32mclass\u001b[0m \u001b[0mAwsSpotPrice\u001b[0m\u001b[0;34m(\u001b[0m\u001b[0mobject\u001b[0m\u001b[0;34m)\u001b[0m\u001b[0;34m:\u001b[0m\u001b[0;34m\u001b[0m\u001b[0m\n\u001b[0m\u001b[1;32m      2\u001b[0m     \u001b[0;32mdef\u001b[0m \u001b[0m__init__\u001b[0m\u001b[0;34m(\u001b[0m\u001b[0mself\u001b[0m\u001b[0;34m,\u001b[0m \u001b[0mdf\u001b[0m\u001b[0;34m)\u001b[0m\u001b[0;34m:\u001b[0m\u001b[0;34m\u001b[0m\u001b[0m\n\u001b[1;32m      3\u001b[0m         \u001b[0;34m\"\"\" df is a dataframe with price history\"\"\"\u001b[0m\u001b[0;34m\u001b[0m\u001b[0m\n\u001b[1;32m      4\u001b[0m         \u001b[0mself\u001b[0m\u001b[0;34m.\u001b[0m\u001b[0mdf\u001b[0m \u001b[0;34m=\u001b[0m \u001b[0mdf\u001b[0m\u001b[0;34m\u001b[0m\u001b[0m\n\u001b[1;32m      5\u001b[0m \u001b[0;34m\u001b[0m\u001b[0m\n",
      "\u001b[0;32m<ipython-input-105-dba215e87cc8>\u001b[0m in \u001b[0;36mAwsSpotPrice\u001b[0;34m()\u001b[0m\n\u001b[1;32m     38\u001b[0m         \u001b[0;32mreturn\u001b[0m \u001b[0mdf\u001b[0m\u001b[0;34m.\u001b[0m\u001b[0mloc\u001b[0m\u001b[0;34m[\u001b[0m\u001b[0;34m:\u001b[0m\u001b[0;34m,\u001b[0m\u001b[0mvariable_name\u001b[0m\u001b[0;34m]\u001b[0m\u001b[0;34m.\u001b[0m\u001b[0mvalue_counts\u001b[0m\u001b[0;34m(\u001b[0m\u001b[0;34m)\u001b[0m\u001b[0;34m\u001b[0m\u001b[0m\n\u001b[1;32m     39\u001b[0m \u001b[0;34m\u001b[0m\u001b[0m\n\u001b[0;32m---> 40\u001b[0;31m     def get_timeserie(self,instance_type, start_time=self.start_time, end_time=self.end_time,\n\u001b[0m\u001b[1;32m     41\u001b[0m                       region=\"us-west-1c\", product=\"Linux/UNIX\"):\n\u001b[1;32m     42\u001b[0m         index = (self.df.AvailabilityZone == region) & (\n",
      "\u001b[0;31mNameError\u001b[0m: name 'self' is not defined"
     ]
    }
   ],
   "source": [
    "class AwsSpotPrice(object):\n",
    "    def __init__(self, df):\n",
    "        \"\"\" df is a dataframe with price history\"\"\"\n",
    "        self.df = df\n",
    "    \n",
    "    @property\n",
    "    def instance_types(self):\n",
    "        \"\"\" Return a list of instances types \"\"\"\n",
    "        return pd.unique(self.df.InstanceType).tolist()\n",
    "    \n",
    "    @property\n",
    "    def regions(self):\n",
    "        \"\"\" Return a list of regions available\"\"\"\n",
    "        return pd.unique(self.df.AvailabilityZone).tolist()\n",
    "    \n",
    "    @property\n",
    "    def products(self):\n",
    "        \"\"\" Return a list of products available \"\"\"\n",
    "        return pd.unique(self.df.ProductDescription).tolist()\n",
    "    \n",
    "    @property\n",
    "    def min_date(self):\n",
    "        \"\"\" Returns start date of the dataframe (min date)\"\"\"\n",
    "        return self.df.Timestamp.min()\n",
    "    \n",
    "    @property\n",
    "    def max_date(self):\n",
    "        \"\"\" Returns end date of the dataframe (max date) \"\"\"\n",
    "        return self.df.Timestamp.max()\n",
    "    \n",
    "    @property\n",
    "    def time_delta(self):\n",
    "        return (self.max_date - self.min_date).days\n",
    "    \n",
    "    def get_histo(self, variable_name):\n",
    "        \"\"\" Return a histogram of a variable \"\"\"\n",
    "        return df.loc[:,variable_name].value_counts()\n",
    "    \n",
    "    def get_timeserie(self,instance_type, start_time=None, end_time=None,\n",
    "                      region=\"us-west-1c\", product=\"Linux/UNIX\"):\n",
    "        # Put min_date and max_date as default \n",
    "        start_time = self.min_date if start_time is None\n",
    "        end_time = self.max_date if end_time is None\n",
    "        # create col boolean\n",
    "        index = (self.df.AvailabilityZone == region) & (\n",
    "            self.df.ProductDescription == product) & (self.df.InstanceType == instance_type)\n",
    "        # complete index with start_date and end_date\n",
    "        index = index & (df.Timestamp >= start_time) & (df.Timestamp >= end_time)\n",
    "        val_sp = self.df.loc[index,\"SpotPrice\"].values\n",
    "        index_dates = self.df.loc[index,'Timestamp']\n",
    "        return pd.Series(data=val_sp,index=index_dates)\n",
    "    \n",
    "    def plot_timeserie(self, region=\"us-west-1c\", product=\"Linux/UNIX\"):\n",
    "        return get_timeserie(self, region=region, product=product).plot()\n",
    "    \n"
   ]
  },
  {
   "cell_type": "code",
   "execution_count": 106,
   "metadata": {
    "collapsed": true
   },
   "outputs": [],
   "source": [
    "a = AwsSpotPrice(df)"
   ]
  },
  {
   "cell_type": "code",
   "execution_count": 102,
   "metadata": {
    "collapsed": false
   },
   "outputs": [
    {
     "data": {
      "text/plain": [
       "Timestamp('2015-11-07 12:51:37')"
      ]
     },
     "execution_count": 102,
     "metadata": {},
     "output_type": "execute_result"
    }
   ],
   "source": [
    "a.min_date"
   ]
  },
  {
   "cell_type": "code",
   "execution_count": 103,
   "metadata": {
    "collapsed": false
   },
   "outputs": [
    {
     "data": {
      "text/plain": [
       "Timestamp('2016-01-07 12:11:34')"
      ]
     },
     "execution_count": 103,
     "metadata": {},
     "output_type": "execute_result"
    }
   ],
   "source": [
    "a.max_date"
   ]
  },
  {
   "cell_type": "code",
   "execution_count": 104,
   "metadata": {
    "collapsed": false
   },
   "outputs": [
    {
     "data": {
      "text/plain": [
       "60"
      ]
     },
     "execution_count": 104,
     "metadata": {},
     "output_type": "execute_result"
    }
   ],
   "source": [
    "a.time_delta"
   ]
  },
  {
   "cell_type": "code",
   "execution_count": 75,
   "metadata": {
    "collapsed": false
   },
   "outputs": [
    {
     "data": {
      "text/plain": [
       "['Linux/UNIX', 'Windows', 'SUSE Linux']"
      ]
     },
     "execution_count": 75,
     "metadata": {},
     "output_type": "execute_result"
    }
   ],
   "source": [
    "a.products"
   ]
  },
  {
   "cell_type": "code",
   "execution_count": 76,
   "metadata": {
    "collapsed": false
   },
   "outputs": [
    {
     "data": {
      "text/plain": [
       "['us-west-1a', 'us-west-1c']"
      ]
     },
     "execution_count": 76,
     "metadata": {},
     "output_type": "execute_result"
    }
   ],
   "source": [
    "a.regions"
   ]
  },
  {
   "cell_type": "code",
   "execution_count": 77,
   "metadata": {
    "collapsed": false
   },
   "outputs": [
    {
     "data": {
      "text/plain": [
       "['m2.4xlarge',\n",
       " 'c3.2xlarge',\n",
       " 'r3.2xlarge',\n",
       " 'c1.medium',\n",
       " 'm2.2xlarge',\n",
       " 'c3.4xlarge',\n",
       " 'm4.xlarge',\n",
       " 'g2.2xlarge',\n",
       " 'c4.large',\n",
       " 'm3.xlarge',\n",
       " 'c3.large',\n",
       " 'm3.2xlarge',\n",
       " 'c3.xlarge',\n",
       " 'c3.8xlarge',\n",
       " 'm4.large',\n",
       " 'm3.large',\n",
       " 'r3.xlarge',\n",
       " 'r3.large',\n",
       " 'm4.4xlarge',\n",
       " 'g2.8xlarge',\n",
       " 't1.micro',\n",
       " 'c4.8xlarge',\n",
       " 'c1.xlarge',\n",
       " 'm4.2xlarge',\n",
       " 'r3.4xlarge',\n",
       " 'r3.8xlarge',\n",
       " 'm1.medium',\n",
       " 'm1.large',\n",
       " 'i2.xlarge',\n",
       " 'c4.4xlarge',\n",
       " 'c4.xlarge',\n",
       " 'i2.8xlarge',\n",
       " 'm1.xlarge',\n",
       " 'm2.xlarge',\n",
       " 'm4.10xlarge',\n",
       " 'm3.medium',\n",
       " 'c4.2xlarge',\n",
       " 'i2.4xlarge',\n",
       " 'm1.small',\n",
       " 'i2.2xlarge']"
      ]
     },
     "execution_count": 77,
     "metadata": {},
     "output_type": "execute_result"
    }
   ],
   "source": [
    "a.instance_types"
   ]
  },
  {
   "cell_type": "code",
   "execution_count": 78,
   "metadata": {
    "collapsed": false
   },
   "outputs": [
    {
     "data": {
      "text/plain": [
       "Timestamp\n",
       "2016-01-06 19:11:36    0.1880\n",
       "2016-01-05 19:10:28    0.1880\n",
       "2016-01-04 19:09:43    0.1880\n",
       "2016-01-03 19:08:49    0.1880\n",
       "2016-01-02 19:07:46    0.1880\n",
       "2016-01-01 19:06:59    0.1880\n",
       "2015-12-31 19:06:42    0.1880\n",
       "2015-12-30 19:05:55    0.1880\n",
       "2015-12-29 19:05:41    0.1880\n",
       "2015-12-28 19:05:38    0.1880\n",
       "2015-12-27 19:05:12    0.1880\n",
       "2015-12-26 19:04:27    0.1880\n",
       "2015-12-25 19:03:29    0.1880\n",
       "2015-12-24 19:03:03    0.1880\n",
       "2015-12-24 19:01:54    0.2650\n",
       "2015-12-24 18:23:53    0.3212\n",
       "2015-12-24 18:22:43    0.3187\n",
       "2015-12-24 18:21:34    0.3415\n",
       "2015-12-24 18:07:40    0.8692\n",
       "2015-12-24 18:06:29    0.8694\n",
       "2015-12-24 18:04:11    0.8692\n",
       "2015-12-24 18:03:03    0.8694\n",
       "2015-12-24 18:00:42    0.8692\n",
       "2015-12-24 17:59:31    0.8694\n",
       "2015-12-24 17:58:21    0.8692\n",
       "2015-12-24 17:56:01    0.8694\n",
       "2015-12-24 17:53:40    0.8692\n",
       "2015-12-24 17:52:31    0.8694\n",
       "2015-12-24 17:39:49    0.8692\n",
       "2015-12-24 17:38:40    0.8694\n",
       "                        ...  \n",
       "2015-12-09 20:49:24    0.1880\n",
       "2015-12-08 20:49:01    0.1880\n",
       "2015-12-07 20:48:28    0.1880\n",
       "2015-12-06 20:48:07    0.1880\n",
       "2015-12-05 20:46:30    0.1880\n",
       "2015-12-04 20:46:00    0.1880\n",
       "2015-12-03 20:45:43    0.1880\n",
       "2015-12-02 20:45:11    0.1880\n",
       "2015-12-01 20:44:19    0.1880\n",
       "2015-11-30 20:43:42    0.1880\n",
       "2015-11-29 20:42:10    0.1880\n",
       "2015-11-28 20:41:28    0.1880\n",
       "2015-11-27 20:40:54    0.1880\n",
       "2015-11-26 20:39:24    0.1880\n",
       "2015-11-25 20:38:46    0.1880\n",
       "2015-11-24 20:36:47    0.1880\n",
       "2015-11-23 20:32:22    0.1880\n",
       "2015-11-22 20:32:00    0.1880\n",
       "2015-11-21 20:31:01    0.1880\n",
       "2015-11-20 20:30:36    0.1880\n",
       "2015-11-19 20:30:08    0.1880\n",
       "2015-11-18 20:29:52    0.1880\n",
       "2015-11-17 20:29:48    0.1880\n",
       "2015-11-16 20:29:23    0.1880\n",
       "2015-11-15 20:28:05    0.1880\n",
       "2015-11-14 20:27:46    0.1880\n",
       "2015-11-13 20:26:29    0.1880\n",
       "2015-11-12 20:25:56    0.1880\n",
       "2015-11-12 20:08:34    0.4214\n",
       "2015-11-12 20:06:32    0.1880\n",
       "dtype: float64"
      ]
     },
     "execution_count": 78,
     "metadata": {},
     "output_type": "execute_result"
    }
   ],
   "source": [
    "a.get_timeserie('i2.2xlarge')"
   ]
  },
  {
   "cell_type": "code",
   "execution_count": 58,
   "metadata": {
    "collapsed": false
   },
   "outputs": [
    {
     "data": {
      "text/plain": [
       "category"
      ]
     },
     "execution_count": 58,
     "metadata": {},
     "output_type": "execute_result"
    }
   ],
   "source": [
    "df.InstanceType.dt"
   ]
  },
  {
   "cell_type": "code",
   "execution_count": null,
   "metadata": {
    "collapsed": true
   },
   "outputs": [],
   "source": [
    "get_instance_types"
   ]
  },
  {
   "cell_type": "code",
   "execution_count": 32,
   "metadata": {
    "collapsed": false
   },
   "outputs": [],
   "source": [
    "test = select_rp(df)"
   ]
  },
  {
   "cell_type": "code",
   "execution_count": 33,
   "metadata": {
    "collapsed": false
   },
   "outputs": [
    {
     "data": {
      "text/plain": [
       "(317154, 5)"
      ]
     },
     "execution_count": 33,
     "metadata": {},
     "output_type": "execute_result"
    }
   ],
   "source": [
    "test.shape"
   ]
  },
  {
   "cell_type": "code",
   "execution_count": 45,
   "metadata": {
    "collapsed": false
   },
   "outputs": [
    {
     "data": {
      "text/plain": [
       "<matplotlib.axes._subplots.AxesSubplot at 0x127dee390>"
      ]
     },
     "execution_count": 45,
     "metadata": {},
     "output_type": "execute_result"
    },
    {
     "data": {
      "image/png": "[encoded data removed]",
      "text/plain": [
       "<matplotlib.figure.Figure at 0x1280f66d0>"
      ]
     },
     "metadata": {},
     "output_type": "display_data"
    }
   ],
   "source": [
    "test.loc[test.InstanceType == \"g2.2xlarge\",:].plot()"
   ]
  },
  {
   "cell_type": "code",
   "execution_count": 55,
   "metadata": {
    "collapsed": false
   },
   "outputs": [],
   "source": [
    "s = pd.Series(data=test.loc[test.InstanceType == \"g2.2xlarge\",'SpotPrice'].values,index=test.loc[test.InstanceType == \"g2.2xlarge\",'Timestamp'])"
   ]
  },
  {
   "cell_type": "code",
   "execution_count": 56,
   "metadata": {
    "collapsed": false
   },
   "outputs": [
    {
     "data": {
      "text/plain": [
       "<matplotlib.axes._subplots.AxesSubplot at 0x1285e9110>"
      ]
     },
     "execution_count": 56,
     "metadata": {},
     "output_type": "execute_result"
    },
    {
     "data": {
      "image/png": "[encoded data removed]",
      "text/plain": [
       "<matplotlib.figure.Figure at 0x121818b50>"
      ]
     },
     "metadata": {},
     "output_type": "display_data"
    }
   ],
   "source": [
    "s.plot()"
   ]
  },
  {
   "cell_type": "code",
   "execution_count": 53,
   "metadata": {
    "collapsed": false
   },
   "outputs": [
    {
     "data": {
      "text/plain": [
       "21        0.0728\n",
       "51        0.0735\n",
       "152       0.0734\n",
       "181       0.0735\n",
       "218       0.0736\n",
       "235       0.0731\n",
       "285       0.0730\n",
       "306       0.0731\n",
       "331       0.0730\n",
       "355       0.0731\n",
       "386       0.0732\n",
       "404       0.0731\n",
       "465       0.0732\n",
       "487       0.0733\n",
       "645       0.0734\n",
       "890       0.0735\n",
       "930       0.0734\n",
       "968       0.0735\n",
       "1191      0.0734\n",
       "1204      0.0735\n",
       "1232      0.0736\n",
       "1245      0.0735\n",
       "1257      0.0741\n",
       "1267      0.0742\n",
       "1287      0.0741\n",
       "1303      0.0742\n",
       "1351      0.0740\n",
       "1365      0.0741\n",
       "1446      0.0742\n",
       "1474      0.0743\n",
       "           ...  \n",
       "840557    0.0870\n",
       "840610    0.0867\n",
       "840642    0.0869\n",
       "840690    0.0870\n",
       "840739    0.0877\n",
       "840750    0.0867\n",
       "840766    0.0862\n",
       "840780    0.0854\n",
       "840817    0.0853\n",
       "840832    0.0854\n",
       "840890    0.0853\n",
       "840904    0.0854\n",
       "840952    0.0862\n",
       "840969    0.0859\n",
       "840982    0.0856\n",
       "841022    0.0855\n",
       "841045    0.0856\n",
       "841079    0.0858\n",
       "841092    0.0863\n",
       "841144    0.0864\n",
       "841159    0.0856\n",
       "841205    0.0859\n",
       "841219    0.0862\n",
       "841231    0.0861\n",
       "841242    0.0862\n",
       "841270    0.0866\n",
       "841469    0.0728\n",
       "841507    0.0727\n",
       "841526    0.0728\n",
       "841570    0.0727\n",
       "Name: SpotPrice, dtype: float64"
      ]
     },
     "execution_count": 53,
     "metadata": {},
     "output_type": "execute_result"
    }
   ],
   "source": [
    "test.loc[test.InstanceType == \"g2.2xlarge\",'SpotPrice']"
   ]
  },
  {
   "cell_type": "code",
   "execution_count": 46,
   "metadata": {
    "collapsed": false
   },
   "outputs": [
    {
     "data": {
      "text/plain": [
       "array([[<matplotlib.axes._subplots.AxesSubplot object at 0x12835d410>]], dtype=object)"
      ]
     },
     "execution_count": 46,
     "metadata": {},
     "output_type": "execute_result"
    },
    {
     "data": {
      "image/png": "[encoded data removed]",
      "text/plain": [
       "<matplotlib.figure.Figure at 0x12840ee10>"
      ]
     },
     "metadata": {},
     "output_type": "display_data"
    }
   ],
   "source": [
    "test.loc[test.InstanceType == \"g2.2xlarge\",:].hist(bins=50)"
   ]
  },
  {
   "cell_type": "code",
   "execution_count": 49,
   "metadata": {
    "collapsed": false
   },
   "outputs": [
    {
     "data": {
      "text/plain": [
       "21        0.0728\n",
       "51        0.0735\n",
       "152       0.0734\n",
       "181       0.0735\n",
       "218       0.0736\n",
       "235       0.0731\n",
       "285       0.0730\n",
       "306       0.0731\n",
       "331       0.0730\n",
       "355       0.0731\n",
       "386       0.0732\n",
       "404       0.0731\n",
       "465       0.0732\n",
       "487       0.0733\n",
       "645       0.0734\n",
       "890       0.0735\n",
       "930       0.0734\n",
       "968       0.0735\n",
       "1191      0.0734\n",
       "1204      0.0735\n",
       "1232      0.0736\n",
       "1245      0.0735\n",
       "1257      0.0741\n",
       "1267      0.0742\n",
       "1287      0.0741\n",
       "1303      0.0742\n",
       "1351      0.0740\n",
       "1365      0.0741\n",
       "1446      0.0742\n",
       "1474      0.0743\n",
       "           ...  \n",
       "840557    0.0870\n",
       "840610    0.0867\n",
       "840642    0.0869\n",
       "840690    0.0870\n",
       "840739    0.0877\n",
       "840750    0.0867\n",
       "840766    0.0862\n",
       "840780    0.0854\n",
       "840817    0.0853\n",
       "840832    0.0854\n",
       "840890    0.0853\n",
       "840904    0.0854\n",
       "840952    0.0862\n",
       "840969    0.0859\n",
       "840982    0.0856\n",
       "841022    0.0855\n",
       "841045    0.0856\n",
       "841079    0.0858\n",
       "841092    0.0863\n",
       "841144    0.0864\n",
       "841159    0.0856\n",
       "841205    0.0859\n",
       "841219    0.0862\n",
       "841231    0.0861\n",
       "841242    0.0862\n",
       "841270    0.0866\n",
       "841469    0.0728\n",
       "841507    0.0727\n",
       "841526    0.0728\n",
       "841570    0.0727\n",
       "Name: SpotPrice, dtype: float64"
      ]
     },
     "execution_count": 49,
     "metadata": {},
     "output_type": "execute_result"
    }
   ],
   "source": [
    "test.loc[test.InstanceType == \"g2.2xlarge\",'SpotPrice']"
   ]
  },
  {
   "cell_type": "code",
   "execution_count": 41,
   "metadata": {
    "collapsed": true
   },
   "outputs": [],
   "source": [
    "??pd.DataFrame.hist()"
   ]
  },
  {
   "cell_type": "code",
   "execution_count": 47,
   "metadata": {
    "collapsed": false
   },
   "outputs": [
    {
     "data": {
      "text/html": [
       "<div>\n",
       "<table border=\"1\" class=\"dataframe\">\n",
       "  <thead>\n",
       "    <tr style=\"text-align: right;\">\n",
       "      <th></th>\n",
       "      <th>SpotPrice</th>\n",
       "    </tr>\n",
       "  </thead>\n",
       "  <tbody>\n",
       "    <tr>\n",
       "      <th>count</th>\n",
       "      <td>25864.000000</td>\n",
       "    </tr>\n",
       "    <tr>\n",
       "      <th>mean</th>\n",
       "      <td>0.125235</td>\n",
       "    </tr>\n",
       "    <tr>\n",
       "      <th>std</th>\n",
       "      <td>0.347170</td>\n",
       "    </tr>\n",
       "    <tr>\n",
       "      <th>min</th>\n",
       "      <td>0.070100</td>\n",
       "    </tr>\n",
       "    <tr>\n",
       "      <th>25%</th>\n",
       "      <td>0.080300</td>\n",
       "    </tr>\n",
       "    <tr>\n",
       "      <th>50%</th>\n",
       "      <td>0.089300</td>\n",
       "    </tr>\n",
       "    <tr>\n",
       "      <th>75%</th>\n",
       "      <td>0.099400</td>\n",
       "    </tr>\n",
       "    <tr>\n",
       "      <th>max</th>\n",
       "      <td>7.020000</td>\n",
       "    </tr>\n",
       "  </tbody>\n",
       "</table>\n",
       "</div>"
      ],
      "text/plain": [
       "          SpotPrice\n",
       "count  25864.000000\n",
       "mean       0.125235\n",
       "std        0.347170\n",
       "min        0.070100\n",
       "25%        0.080300\n",
       "50%        0.089300\n",
       "75%        0.099400\n",
       "max        7.020000"
      ]
     },
     "execution_count": 47,
     "metadata": {},
     "output_type": "execute_result"
    }
   ],
   "source": [
    "test.loc[test.InstanceType == \"g2.2xlarge\",:].describe()"
   ]
  },
  {
   "cell_type": "code",
   "execution_count": null,
   "metadata": {
    "collapsed": true
   },
   "outputs": [],
   "source": []
  }
 ],
 "metadata": {
  "kernelspec": {
   "display_name": "Python 2",
   "language": "python",
   "name": "python2"
  },
  "language_info": {
   "codemirror_mode": {
    "name": "ipython",
    "version": 2
   },
   "file_extension": ".py",
   "mimetype": "text/x-python",
   "name": "python",
   "nbconvert_exporter": "python",
   "pygments_lexer": "ipython2",
   "version": "2.7.11"
  }
 },
 "nbformat": 4,
 "nbformat_minor": 0
}
